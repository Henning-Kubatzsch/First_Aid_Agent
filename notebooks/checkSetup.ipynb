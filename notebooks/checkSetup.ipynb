{
 "cells": [
  {
   "cell_type": "markdown",
   "id": "0e66f217",
   "metadata": {},
   "source": [
    "## Create the Python venv\n",
    "\n",
    "```\n",
    "python -V            # 3.10/3.11\n",
    "python -c \"import platform; print(platform.machine())\"  # arm64\n",
    "pip install -U pip wheel setuptools\n",
    "```"
   ]
  },
  {
   "cell_type": "markdown",
   "id": "c11dad00",
   "metadata": {},
   "source": [
    "# Install native ARM64 wheels\n",
    "\n",
    "```\n",
    "pip install torch torchvision torchaudio accelerate\n",
    "```"
   ]
  },
  {
   "cell_type": "markdown",
   "id": "b36be947",
   "metadata": {},
   "source": [
    "## Verify PyTorch MPS (Apple GPU) works\n",
    "\n",
    "You should see `MPS available: True`and tensors on `mps:0`"
   ]
  },
  {
   "cell_type": "code",
   "execution_count": 1,
   "id": "33919abc",
   "metadata": {},
   "outputs": [
    {
     "name": "stdout",
     "output_type": "stream",
     "text": [
      "Python: 3.10.8 (v3.10.8:aaaf517424, Oct 11 2022, 10:14:40) [Clang 13.0.0 (clang-1300.0.29.30)]\n",
      "Arch: arm64\n",
      "Torch: 2.8.0\n",
      "MPS available: True\n",
      "MPS built: True\n",
      "OK on MPS: mps:0 tensor([[0.6776, 0.7412],\n",
      "        [1.0213, 1.1920]], device='mps:0')\n"
     ]
    }
   ],
   "source": [
    "import torch, platform, sys\n",
    "print(\"Python:\", sys.version)\n",
    "print(\"Arch:\", platform.machine())\n",
    "print(\"Torch:\", torch.__version__)\n",
    "print(\"MPS available:\", torch.backends.mps.is_available())\n",
    "print(\"MPS built:\", torch.backends.mps.is_built())\n",
    "\n",
    "if torch.backends.mps.is_available():\n",
    "    x = torch.rand(2,2, device=\"mps\")\n",
    "    y = x @ x\n",
    "    print(\"OK on MPS:\", y.device, y)"
   ]
  },
  {
   "cell_type": "code",
   "execution_count": 3,
   "id": "df3fec56",
   "metadata": {},
   "outputs": [
    {
     "name": "stdout",
     "output_type": "stream",
     "text": [
      "mps\n"
     ]
    }
   ],
   "source": [
    "from accelerate import Accelerator\n",
    "acc = Accelerator()\n",
    "print(acc.device)  "
   ]
  },
  {
   "cell_type": "markdown",
   "id": "5822bd0e",
   "metadata": {},
   "source": [
    "## What we did an what to check\n",
    "\n",
    "1. ✅ Created Python venv (3.10, arm64)\n",
    "2. ✅ Installed ARM64 wheels (`torch`, `accelerate`)\n",
    "3. ✅ Verified PyTorch MPS: `is_built=True`, `is_available=True`\n",
    "4. ✅ Ran `accelerate config` → chose:\n",
    "\n",
    "   * This machine\n",
    "   * No distributed training\n",
    "   * CPU only? → **NO** (so MPS is used)\n",
    "   * Torch dynamo → **NO**\n",
    "   * Mixed precision → **NO**\n",
    "   * No DeepSpeed\n",
    "5. ✅ Config saved, `Accelerator().device` should now return **mps**\n",
    "\n",
    "👉 You now have a working local RAG dev env on Mac, using Apple GPU.\n"
   ]
  },
  {
   "cell_type": "markdown",
   "id": "b106b44b",
   "metadata": {},
   "source": [
    "## Handy commands:\n",
    "\n",
    "```bash\n",
    "poetry config virtualenvs.in-project true   # optional: keep .venv in repo folder\n",
    "poetry env use 3.10\n",
    "poetry install                               # installs from poetry.lock\n",
    "poetry add torch accelerate typer llama-cpp-python hnswlib sentence-transformers\n",
    "```\n",
    "\n",
    "If you ever need a `requirements.txt` (e.g., Docker/CI without Poetry):\n",
    "\n",
    "```bash\n",
    "poetry export -f requirements.txt -o requirements.txt --without-hashes\n",
    "# or include dev deps:\n",
    "poetry export -f requirements.txt -o requirements-dev.txt --with dev --without-hashes\n",
    "```\n"
   ]
  }
 ],
 "metadata": {
  "kernelspec": {
   "display_name": "mr-first-aid-rag-py3.11 (3.11.9)",
   "language": "python",
   "name": "python3"
  },
  "language_info": {
   "codemirror_mode": {
    "name": "ipython",
    "version": 3
   },
   "file_extension": ".py",
   "mimetype": "text/x-python",
   "name": "python",
   "nbconvert_exporter": "python",
   "pygments_lexer": "ipython3",
   "version": "3.11.9"
  }
 },
 "nbformat": 4,
 "nbformat_minor": 5
}
